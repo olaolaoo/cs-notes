{
 "cells": [
  {
   "cell_type": "markdown",
   "id": "b36d002b-3a80-4891-9653-2bef42fc627f",
   "metadata": {},
   "source": [
    "# 选择排序"
   ]
  },
  {
   "cell_type": "code",
   "execution_count": 1,
   "id": "e21037c4-b34e-47c9-99a8-46e00916fefe",
   "metadata": {},
   "outputs": [],
   "source": [
    "def findSmallest(arr):\n",
    "    smallest = arr[0] \n",
    "    smallest_index = 0 \n",
    "    for i in range(1, len(arr)):\n",
    "        if arr[i] < smallest:\n",
    "            smallest = arr[i]\n",
    "            smallest_index = i \n",
    "    return smallest_index"
   ]
  },
  {
   "cell_type": "code",
   "execution_count": 2,
   "id": "dd55c60f-09cb-446e-b9b6-bcda92ee4864",
   "metadata": {},
   "outputs": [],
   "source": [
    "def selectionSort(arr):\n",
    "    newArr = [] \n",
    "    for i in range(len(arr)):\n",
    "        smallest = findSmallest(arr) \n",
    "        newArr.append(arr.pop(smallest)) \n",
    "        print(newArr)\n",
    "    return newArr"
   ]
  },
  {
   "cell_type": "code",
   "execution_count": 4,
   "id": "57bc149a-c0cd-4a8b-8712-9ed477d532c2",
   "metadata": {},
   "outputs": [
    {
     "name": "stdout",
     "output_type": "stream",
     "text": [
      "[2]\n",
      "[2, 3]\n",
      "[2, 3, 5]\n",
      "[2, 3, 5, 6]\n",
      "[2, 3, 5, 6, 10]\n",
      "[2, 3, 5, 6, 10]\n"
     ]
    }
   ],
   "source": [
    "print(selectionSort([5, 3, 6, 2, 10]))"
   ]
  },
  {
   "cell_type": "code",
   "execution_count": null,
   "id": "999ef14d-dbd6-4572-b37d-b301e0f1595b",
   "metadata": {},
   "outputs": [],
   "source": []
  },
  {
   "cell_type": "code",
   "execution_count": null,
   "id": "30ef6702-b71b-4520-9d40-3015822023bb",
   "metadata": {},
   "outputs": [],
   "source": []
  },
  {
   "cell_type": "code",
   "execution_count": null,
   "id": "9220109b-9fa1-4e6d-8a50-9f686ae1f935",
   "metadata": {},
   "outputs": [],
   "source": []
  },
  {
   "cell_type": "code",
   "execution_count": 5,
   "id": "dcd594fc-9fc6-42d6-8a3e-5bdacd5309db",
   "metadata": {},
   "outputs": [],
   "source": [
    "def look_for_key(main_box):\n",
    "\n",
    "        pile = main_box.make_a_pile_to_look_through() \n",
    "        while pile is not empty:\n",
    "\n",
    "            box = pile.grab_a_box() \n",
    "            for item in box:\n",
    "                if item.is_a_box():\n",
    "                    pile.append(item) \n",
    "                elif item.is_a_key():\n",
    "                    print(\"found the key!\")"
   ]
  },
  {
   "cell_type": "code",
   "execution_count": 7,
   "id": "22f6213a-e2a1-4a3d-98a4-1d2ab993b45c",
   "metadata": {},
   "outputs": [
    {
     "ename": "NameError",
     "evalue": "name 'main_box' is not defined",
     "output_type": "error",
     "traceback": [
      "\u001b[0;31m---------------------------------------------------------------------------\u001b[0m",
      "\u001b[0;31mNameError\u001b[0m                                 Traceback (most recent call last)",
      "\u001b[0;32m/var/folders/c_/1s2f3g2525g7p3w1hp5cglxr0000gn/T/ipykernel_66667/3425465736.py\u001b[0m in \u001b[0;36m<module>\u001b[0;34m\u001b[0m\n\u001b[0;32m----> 1\u001b[0;31m \u001b[0mlook_for_key\u001b[0m\u001b[0;34m(\u001b[0m\u001b[0mmain_box\u001b[0m\u001b[0;34m)\u001b[0m\u001b[0;34m\u001b[0m\u001b[0;34m\u001b[0m\u001b[0m\n\u001b[0m",
      "\u001b[0;31mNameError\u001b[0m: name 'main_box' is not defined"
     ]
    }
   ],
   "source": [
    "look_for_key(main_box)"
   ]
  },
  {
   "cell_type": "code",
   "execution_count": 6,
   "id": "076000e9-24b2-4b93-a96d-2618467ce757",
   "metadata": {},
   "outputs": [],
   "source": [
    "# 打开二进制文件\n",
    "with open('/Users/ola/java30/每日单词/day_words.txt', 'rb') as bin_file:\n",
    "    # 读取文件内容\n",
    "    binary_data = bin_file.read()\n",
    "\n",
    "# 将二进制数据转换为文本字符串\n",
    "text_str = binary_data.decode('utf-8')  # 这里假设二进制文件是用UTF-8编码的文本\n",
    "\n",
    "# 保存转换后的文本到txt文件\n",
    "with open('/Users/ola/java30/每日单词/day_words_real.txt', 'w', encoding='utf-8') as text_file:\n",
    "    text_file.write(text_str)\n"
   ]
  },
  {
   "cell_type": "code",
   "execution_count": 5,
   "id": "03af6c5b-8078-45eb-8bac-fc91e950c952",
   "metadata": {},
   "outputs": [],
   "source": [
    "import os\n",
    "\n",
    "\n",
    "def bin2txt(src_path, des_path, width):\n",
    "    src_file = open(src_path, 'rb')\n",
    "    des_file = open(des_path,'w')\n",
    "\n",
    "    file_size = os.path.getsize(src_path)\n",
    "    i = int(file_size / width)\n",
    "    j = file_size % width\n",
    "    if j == 0:\n",
    "        k = 0\n",
    "    else:\n",
    "        k = 1\n",
    "    total_length = i + k\n",
    "\n",
    "    for i in range(total_length):\n",
    "        data = src_file.read(4)\n",
    "        dat = data[::-1] #大小端转换\n",
    "        res = ''.join(['%02X' %b for b in dat])\n",
    "        des_file.write(res)\n",
    "        des_file.write('\\n')\n",
    "    src_file.close()\n",
    "    des_file.close()\n",
    "\n",
    "width = 4 #每次读4bytes\n",
    "src_path = '/Users/ola/java30/每日单词/尚硅谷_Java编程语言每日单词.bin'\n",
    "des_path = '/Users/ola/java30/每日单词/day_words.txt'\n",
    "bin2txt(src_path, des_path, width)\n",
    "\n"
   ]
  },
  {
   "cell_type": "code",
   "execution_count": null,
   "id": "7f4c179e-0ec2-44a2-a58c-33b441fe86fe",
   "metadata": {},
   "outputs": [],
   "source": []
  }
 ],
 "metadata": {
  "kernelspec": {
   "display_name": "Python 3 (ipykernel)",
   "language": "python",
   "name": "python3"
  },
  "language_info": {
   "codemirror_mode": {
    "name": "ipython",
    "version": 3
   },
   "file_extension": ".py",
   "mimetype": "text/x-python",
   "name": "python",
   "nbconvert_exporter": "python",
   "pygments_lexer": "ipython3",
   "version": "3.9.13"
  }
 },
 "nbformat": 4,
 "nbformat_minor": 5
}
